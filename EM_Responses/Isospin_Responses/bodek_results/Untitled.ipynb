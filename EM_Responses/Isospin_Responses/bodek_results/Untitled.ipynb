{
 "cells": [
  {
   "cell_type": "code",
   "execution_count": 3,
   "id": "45d14a4d",
   "metadata": {},
   "outputs": [],
   "source": [
    "def read_columns_from_file(file_path):\n",
    "    with open(file_path, 'r') as file:\n",
    "        lines = file.readlines()\n",
    "    columns = [line.split() for line in lines]\n",
    "    for i in range(len(columns)):\n",
    "        columns[i][1:] = list(map(float, columns[i][1:]))\n",
    "    return columns\n",
    "\n",
    "def add_columns(columns1, columns2):\n",
    "    if len(columns1) != len(columns2):\n",
    "        raise ValueError(\"Files have different number of lines.\")\n",
    "    \n",
    "    result = []\n",
    "    for row1, row2 in zip(columns1, columns2):\n",
    "        if row1[0] != row2[0]:\n",
    "            raise ValueError(\"Row labels do not match.\")\n",
    "        result.append([row1[0]] + [a + b for a, b in zip(row1[1:], row2[1:])])\n",
    "    return result\n",
    "\n",
    "def write_columns_to_file(columns, file_path):\n",
    "    with open(file_path, 'w') as file:\n",
    "        for row in columns:\n",
    "            file.write(' '.join(map(str, row)) + '\\n')"
   ]
  },
  {
   "cell_type": "code",
   "execution_count": 14,
   "id": "7d8700e8",
   "metadata": {},
   "outputs": [],
   "source": [
    "filebase = 'C12_FSI_EM_'\n",
    "momenta = ['570', '649', '756', '991', '1659']\n",
    "files1b = [filebase+'1b_QMC_q'+momentum+'.out' for momentum in momenta]\n",
    "files2b = [filebase+'2b_QMC_q'+momentum+'.out' for momentum in momenta]\n",
    "#columns1 = read_columns_from_file('C12_FSI_EM_1b_QMC_q570.out')\n",
    "#columns2 = read_columns_from_file('C12_FSI_EM_2b_QMC_q570.out')\n",
    "#result_columns = add_columns(columns1, columns2)\n",
    "#write_columns_to_file(result_columns,'C12_FSI_EM_QMC_q570.out')"
   ]
  },
  {
   "cell_type": "code",
   "execution_count": 18,
   "id": "80b7b109",
   "metadata": {},
   "outputs": [],
   "source": [
    "results1b = [read_columns_from_file(file1b) for file1b in files1b]\n",
    "results2b = [read_columns_from_file(file2b) for file2b in files2b]\n",
    "results = [add_columns(col1,col2) for col1,col2 in zip(results1b,results2b)]"
   ]
  },
  {
   "cell_type": "code",
   "execution_count": 22,
   "id": "2593b12d",
   "metadata": {},
   "outputs": [],
   "source": [
    "for result,momentum in zip(results,momenta):\n",
    "    write_columns_to_file(result,filebase+'QMC_q'+momentum+'.out')"
   ]
  },
  {
   "cell_type": "code",
   "execution_count": null,
   "id": "e5337cba",
   "metadata": {},
   "outputs": [],
   "source": []
  }
 ],
 "metadata": {
  "kernelspec": {
   "display_name": "Python 3",
   "language": "python",
   "name": "python3"
  },
  "language_info": {
   "codemirror_mode": {
    "name": "ipython",
    "version": 3
   },
   "file_extension": ".py",
   "mimetype": "text/x-python",
   "name": "python",
   "nbconvert_exporter": "python",
   "pygments_lexer": "ipython3",
   "version": "3.8.2"
  }
 },
 "nbformat": 4,
 "nbformat_minor": 5
}
